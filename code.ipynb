{
 "cells": [
  {
   "cell_type": "markdown",
   "id": "c93487e5",
   "metadata": {},
   "source": [
    "BAGGING AND BOOSTING LEARNING SHEET"
   ]
  },
  {
   "cell_type": "code",
   "execution_count": 57,
   "id": "8b2d21f9",
   "metadata": {},
   "outputs": [],
   "source": [
    "import pandas as pd \n",
    "from sklearn.model_selection import train_test_split, cross_val_score,cross_val_predict\n",
    "from xgboost import XGBClassifier\n",
    "from sklearn.ensemble import GradientBoostingClassifier\n",
    "from sklearn.preprocessing import LabelEncoder\n",
    "from sklearn.metrics import roc_auc_score,make_scorer"
   ]
  },
  {
   "cell_type": "markdown",
   "id": "d152bb39",
   "metadata": {},
   "source": [
    "Predict Stroke with Gradient Boosting\n",
    "Task:\n",
    "Train GradientBoostingClassifier to predict stroke.\n",
    "Use 5-fold cross-validation.\n",
    "Evaluate using accuracy and ROC-AUC"
   ]
  },
  {
   "cell_type": "code",
   "execution_count": 56,
   "id": "4912c5bd",
   "metadata": {},
   "outputs": [
    {
     "name": "stdout",
     "output_type": "stream",
     "text": [
      "Mean accuracy: 0.9475538160469668\n",
      "Average ROC AUC: 0.8317867639157219\n"
     ]
    }
   ],
   "source": [
    "df=pd.read_csv('healthcare-dataset-stroke-data.csv') \n",
    "df.head()\n",
    "\n",
    "label=LabelEncoder()\n",
    "for i in df.columns:\n",
    "  if df[i].dtype=='object':\n",
    "    df[i]=label.fit_transform(df[i])\n",
    "  if df[i].isnull().sum()>0:\n",
    "    df[i]=df[i].fillna(df[i].mean())\n",
    "\n",
    "X=df.drop('stroke',axis=1)\n",
    "y=df['stroke']\n",
    "\n",
    "X_train, X_test, y_train, y_test=train_test_split(X,y,test_size=0.2,random_state=42)\n",
    "\n",
    "model=GradientBoostingClassifier()\n",
    "model.fit(X_train,y_train)\n",
    "\n",
    "score=cross_val_score(model,X,y,cv=5,scoring='accuracy')\n",
    "print(f'Mean accuracy: {score.mean()}')\n",
    "\n",
    "score_roc=cross_val_score(model,X,y,scoring='roc_auc')\n",
    "print(f'Average ROC AUC: {score_roc.mean()}')"
   ]
  },
  {
   "cell_type": "markdown",
   "id": "67d1158b",
   "metadata": {},
   "source": [
    "Predict Bank Loan Approval with XGBoost\n",
    "Task:\n",
    "Train XGBClassifier to predict Loan_Status.\n",
    "Use 5-fold cross-validation.\n",
    "Evaluate using accuracy and ROC-AUC.\n"
   ]
  },
  {
   "cell_type": "code",
   "execution_count": 55,
   "id": "923cff8f",
   "metadata": {},
   "outputs": [
    {
     "name": "stdout",
     "output_type": "stream",
     "text": [
      "Mean accuracy: 0.818284029962834\n",
      "Mean ROC AUC: 0.843630394376229\n"
     ]
    }
   ],
   "source": [
    "\n",
    "df=pd.read_csv('credit_train.csv')\n",
    "df.head()\n",
    "\n",
    "label=LabelEncoder()\n",
    "for i in df.columns:\n",
    "  if df[i].dtype=='object':\n",
    "    df[i]=label.fit_transform(df[i].astype(str))\n",
    "\n",
    "X=df.drop('Loan Status',axis=1)\n",
    "y=df['Loan Status']\n",
    "\n",
    "X_train, X_test, y_train, y_test=train_test_split(X,y,test_size=0.2,random_state=42)\n",
    "\n",
    "model=XGBClassifier()\n",
    "model.fit(X_train,y_train)\n",
    "\n",
    "score=cross_val_score(model,X,y,cv=5,scoring='accuracy')\n",
    "print(f'Mean accuracy: {score.mean()}')\n",
    "\n",
    "y_proba = cross_val_predict(model, X, y, cv=5, method='predict_proba')\n",
    "score_roc= roc_auc_score(y, y_proba, multi_class='ovr')\n",
    "print(f'Mean ROC AUC: {score_roc}')"
   ]
  },
  {
   "cell_type": "markdown",
   "id": "ed103797",
   "metadata": {},
   "source": [
    "Predict Wine Quality using Gradient Boosting\n",
    "Task:\n",
    "Train GradientBoostingClassifier to predict quality (convert into binary: good/bad wine).\n",
    "Evaluate with accuracy and ROC-AUC."
   ]
  },
  {
   "cell_type": "code",
   "execution_count": 53,
   "id": "ce10d36d",
   "metadata": {},
   "outputs": [
    {
     "name": "stdout",
     "output_type": "stream",
     "text": [
      "Mean accuracy: 0.5672296238244513\n",
      "Mean ROC AUC: 0.7115377787551158\n"
     ]
    }
   ],
   "source": [
    "df=pd.read_csv('winequality-red.csv')\n",
    "df.head()\n",
    "\n",
    "X=df.drop('quality',axis=1)\n",
    "y=df['quality']\n",
    "\n",
    "X_train, X_test, y_train, y_test=train_test_split(X,y,test_size=0.2,random_state=42)\n",
    "\n",
    "model=GradientBoostingClassifier()\n",
    "model.fit(X_train,y_train)\n",
    "\n",
    "score=cross_val_score(model,X,y,scoring='accuracy')\n",
    "print(f'Mean accuracy: {score.mean()}')\n",
    "\n",
    "y_proba = cross_val_predict(model, X, y, cv=5, method='predict_proba')\n",
    "score_roc= roc_auc_score(y, y_proba, multi_class='ovr')\n",
    "print(f'Mean ROC AUC: {score_roc}')"
   ]
  },
  {
   "cell_type": "markdown",
   "id": "06784758",
   "metadata": {},
   "source": [
    "Predict Mushroom Edibility with XGBoost\n",
    "Task:\n",
    "Train XGBClassifier to predict class (edible/poisonous).\n",
    "Use 5-fold CV."
   ]
  },
  {
   "cell_type": "code",
   "execution_count": 54,
   "id": "c21be4f0",
   "metadata": {},
   "outputs": [
    {
     "name": "stdout",
     "output_type": "stream",
     "text": [
      "Mean Accuracy: 0.8954631299734748\n"
     ]
    }
   ],
   "source": [
    "df=pd.read_csv('mushrooms.csv')\n",
    "df.head()\n",
    "\n",
    "label=LabelEncoder()\n",
    "for i in df.columns:\n",
    "  df[i]=label.fit_transform(df[i])\n",
    "\n",
    "X=df.drop('class',axis=1)\n",
    "y=df['class']\n",
    "\n",
    "X_train, X_test, y_train, y_test=train_test_split(X,y,test_size=0.2,random_state=42)\n",
    "\n",
    "model=XGBClassifier()\n",
    "model.fit(X_train,y_train)\n",
    "\n",
    "score=cross_val_score(model,X,y,cv=5)\n",
    "print(f'Mean Accuracy: {score.mean()}')"
   ]
  }
 ],
 "metadata": {
  "kernelspec": {
   "display_name": "Python 3",
   "language": "python",
   "name": "python3"
  },
  "language_info": {
   "codemirror_mode": {
    "name": "ipython",
    "version": 3
   },
   "file_extension": ".py",
   "mimetype": "text/x-python",
   "name": "python",
   "nbconvert_exporter": "python",
   "pygments_lexer": "ipython3",
   "version": "3.13.0"
  }
 },
 "nbformat": 4,
 "nbformat_minor": 5
}
